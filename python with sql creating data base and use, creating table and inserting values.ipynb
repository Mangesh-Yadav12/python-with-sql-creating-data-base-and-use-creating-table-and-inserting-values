{
 "cells": [
  {
   "cell_type": "code",
   "execution_count": 1,
   "id": "de3bf3a0",
   "metadata": {},
   "outputs": [],
   "source": [
    "import mysql.connector as conn"
   ]
  },
  {
   "cell_type": "code",
   "execution_count": 2,
   "id": "a4ae26de",
   "metadata": {},
   "outputs": [],
   "source": [
    "mydb = conn.connect(host= \"localhost\", user =\"root\", passwd= \"mangesh\")\n",
    "cursor = mydb.cursor()\n",
    "cursor.execute(\"create database Superstore_new\")\n",
    "\n",
    "cursor.execute(\"use Superstore_new\")"
   ]
  },
  {
   "cell_type": "code",
   "execution_count": 3,
   "id": "63a21c05",
   "metadata": {},
   "outputs": [],
   "source": [
    "cursor.execute(\"create table test(student_id int, emp_id int, name varchar(20))\")"
   ]
  },
  {
   "cell_type": "code",
   "execution_count": 5,
   "id": "3f5fabb7",
   "metadata": {},
   "outputs": [],
   "source": [
    "cursor.execute(\"insert into test values (123,145,'mangesh')\")"
   ]
  },
  {
   "cell_type": "code",
   "execution_count": 6,
   "id": "6ecf71c4",
   "metadata": {},
   "outputs": [
    {
     "data": {
      "text/plain": [
       "[]"
      ]
     },
     "execution_count": 6,
     "metadata": {},
     "output_type": "execute_result"
    }
   ],
   "source": [
    "cursor.fetchall()"
   ]
  },
  {
   "cell_type": "code",
   "execution_count": 7,
   "id": "7fb2d057",
   "metadata": {},
   "outputs": [],
   "source": [
    "mydb.commit()"
   ]
  },
  {
   "cell_type": "code",
   "execution_count": null,
   "id": "1eec1a45",
   "metadata": {},
   "outputs": [],
   "source": []
  }
 ],
 "metadata": {
  "kernelspec": {
   "display_name": "Python 3 (ipykernel)",
   "language": "python",
   "name": "python3"
  },
  "language_info": {
   "codemirror_mode": {
    "name": "ipython",
    "version": 3
   },
   "file_extension": ".py",
   "mimetype": "text/x-python",
   "name": "python",
   "nbconvert_exporter": "python",
   "pygments_lexer": "ipython3",
   "version": "3.9.12"
  }
 },
 "nbformat": 4,
 "nbformat_minor": 5
}
